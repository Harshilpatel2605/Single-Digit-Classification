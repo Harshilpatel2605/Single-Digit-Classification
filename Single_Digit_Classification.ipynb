{
  "nbformat": 4,
  "nbformat_minor": 0,
  "metadata": {
    "colab": {
      "provenance": [],
      "authorship_tag": "ABX9TyPP5y1PS/mAwUP6oUIbvhlf",
      "include_colab_link": true
    },
    "kernelspec": {
      "name": "python3",
      "display_name": "Python 3"
    },
    "language_info": {
      "name": "python"
    }
  },
  "cells": [
    {
      "cell_type": "markdown",
      "metadata": {
        "id": "view-in-github",
        "colab_type": "text"
      },
      "source": [
        "<a href=\"https://colab.research.google.com/github/Harshilpatel2605/Single-Digit-Classification/blob/main/Single_Digit_Classification.ipynb\" target=\"_parent\"><img src=\"https://colab.research.google.com/assets/colab-badge.svg\" alt=\"Open In Colab\"/></a>"
      ]
    },
    {
      "cell_type": "code",
      "execution_count": 55,
      "metadata": {
        "colab": {
          "base_uri": "https://localhost:8080/",
          "height": 518
        },
        "id": "ApF3c9uk4nQl",
        "outputId": "0e6c1442-2072-48e1-d87d-2217f0e8f859"
      },
      "outputs": [
        {
          "output_type": "stream",
          "name": "stdout",
          "text": [
            "Check for Input Image :  9967.png\n"
          ]
        },
        {
          "output_type": "display_data",
          "data": {
            "text/plain": [
              "<Figure size 1000x500 with 2 Axes>"
            ],
            "image/png": "[encoded data removed]"
          },
          "metadata": {}
        },
        {
          "output_type": "stream",
          "name": "stdout",
          "text": [
            "image size :  (28, 28)\n",
            "Class Probabilities :  [[3.21789554e-44 1.40066777e-54 1.76452413e-36 4.78341566e-24\n",
            "  3.17690571e-55 6.65078736e-14 9.02803119e-84 3.22839816e-64\n",
            "  1.00000000e+00 7.00795765e-51]]\n",
            "Predicted Digit: 8 with probability:  0.9999999999999334\n"
          ]
        }
      ],
      "source": [
        "import numpy as np\n",
        "import cv2\n",
        "import matplotlib.pyplot as plt\n",
        "from sklearn.datasets import fetch_openml\n",
        "\n",
        "# Preprocessing for input image\n",
        "threshold = 128  # To binarize the pixels\n",
        "\n",
        "def image_to_array(image_path):\n",
        "    \"\"\"Convert an input image to a flattened binary array.\"\"\"\n",
        "    img_color = cv2.imread(image_path)\n",
        "    img_gray = cv2.cvtColor(img_color, cv2.COLOR_BGR2GRAY)  # grayscale image.\n",
        "    img_gray = cv2.GaussianBlur(img_gray, (3,3), 0)   # to reduce noise.\n",
        "    _, img_binary = cv2.threshold(img_gray, 0, 255, cv2.THRESH_BINARY + cv2.THRESH_OTSU)\n",
        "\n",
        "    # size = 28*28 already.\n",
        "    img_gray = (img_gray >= threshold).astype(int)\n",
        "    plt.figure(figsize=(10, 5))\n",
        "    plt.subplot(1, 2, 1)\n",
        "    plt.imshow(cv2.cvtColor(img_color, cv2.COLOR_BGR2RGB))\n",
        "    plt.title('Coloured Image')\n",
        "    plt.axis('off')\n",
        "\n",
        "    plt.subplot(1, 2, 2)\n",
        "    plt.imshow(img_gray, cmap='gray')\n",
        "    plt.title('Grayscale Image')\n",
        "    plt.axis('off')\n",
        "    plt.show()\n",
        "\n",
        "    # Convert to numpy array\n",
        "    img_array = (img_binary > 128).astype(int)\n",
        "\n",
        "    print(\"image size : \", img_array.shape)\n",
        "    return img_array.flatten()  # Flatten (28x28 → 784,)\n",
        "\n",
        "\n",
        "def load_mnist():\n",
        "    \"\"\"Load the MNIST dataset from OpenML.\"\"\"\n",
        "    mnist = fetch_openml('mnist_784', version=1, as_frame=False)\n",
        "    X, y = mnist.data, mnist.target.astype(int)\n",
        "    return X, y\n",
        "\n",
        "def binarize(X):\n",
        "    \"\"\"Convert grayscale pixel values to binary (0 or 1).\"\"\"\n",
        "    return (X >= threshold).astype(int)\n",
        "\n",
        "def naiveBayes(X_train, y_train, smoothing=1):\n",
        "    \"\"\"Train Bernoulli Naive Bayes model.\"\"\"\n",
        "    k = 10  # Classes (0-9)\n",
        "    features = X_train.shape[1]  # 784 pixels\n",
        "\n",
        "    # Compute class priors\n",
        "    class_counts = np.bincount(y_train, minlength=k)\n",
        "    priors = class_counts / len(y_train)\n",
        "\n",
        "    # Compute likelihoods using proper indexing\n",
        "    feature_counts = np.zeros((k, features))\n",
        "\n",
        "    for i in range(k):\n",
        "        feature_counts[i] = np.sum(X_train[y_train == i], axis=0)  # Count occurrences per feature per class\n",
        "\n",
        "    # Apply Laplace Smoothing\n",
        "    likelihoods = (feature_counts + smoothing) / (class_counts[:, np.newaxis] + 2 * smoothing)\n",
        "\n",
        "    return priors, likelihoods\n",
        "\n",
        "\n",
        "# Predict using Naive Bayes\n",
        "# def predict(X_test, priors, likelihoods):\n",
        "#     log_priors = np.log(priors)  # Convert priors to log-space\n",
        "#     log_likelihoods = np.log(likelihoods)  # Convert likelihoods to log-space\n",
        "#     log_inv_likelihoods = np.log(1 - likelihoods)  # Log of (1 - P(X | Y))\n",
        "\n",
        "#     log_posteriors = log_priors + np.dot(X_test, log_likelihoods.T) + np.dot(1 - X_test, log_inv_likelihoods.T)\n",
        "\n",
        "#     return np.argmax(log_posteriors, axis=1)  # Directly return class index\n",
        "\n",
        "def predict(X_test, priors, likelihoods):\n",
        "    log_priors = np.log(priors)  # Convert priors to log-space\n",
        "    log_likelihoods = np.log(likelihoods)  # Convert likelihoods to log-space\n",
        "    log_inv_likelihoods = np.log(1 - likelihoods)  # Log of (1 - P(X | Y))\n",
        "\n",
        "    predictions = []\n",
        "    for x in X_test:  # Iterate over each test image\n",
        "        # Compute log-probability for each class (digit 0-9)\n",
        "        log_posteriors = log_priors + np.sum(log_likelihoods * x + log_inv_likelihoods * (1 - x), axis=1)\n",
        "\n",
        "        # Convert back to probability space using exp\n",
        "        posteriors = np.exp(log_posteriors - np.max(log_posteriors))  # Prevent overflow\n",
        "        posteriors /= np.sum(posteriors)  # Normalize to get probabilities\n",
        "\n",
        "        predictions.append(posteriors)  # Store probability vector\n",
        "\n",
        "    return np.array(predictions)  # Returns shape (num_samples, 10)\n",
        "\n",
        "def main():\n",
        "    \"\"\"Main function to train and test Bernoulli Naive Bayes.\"\"\"\n",
        "    X, y = load_mnist()\n",
        "    X = binarize(X)\n",
        "    y = y.astype(int)\n",
        "\n",
        "    # Train model\n",
        "    priors, likelihoods = naiveBayes(X, y, smoothing=1)\n",
        "\n",
        "    # Test on input image\n",
        "    imagePath = '9967.png'  # Replace with user input\n",
        "    print(\"Check for Input Image : \", imagePath)\n",
        "    x_test = image_to_array(imagePath).reshape(1, -1)\n",
        "\n",
        "    y_pred = predict(x_test, priors, likelihoods)\n",
        "\n",
        "    # Prediction output\n",
        "    print(\"Class Probabilities : \", y_pred)\n",
        "    pred = np.argmax(y_pred[0])\n",
        "    print(\"Predicted Digit:\", pred, \"with probability: \", y_pred[0][pred])\n",
        "\n",
        "main()\n"
      ]
    }
  ]
}